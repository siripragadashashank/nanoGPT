{
 "cells": [
  {
   "cell_type": "code",
   "execution_count": 14,
   "id": "c2ee351f",
   "metadata": {},
   "outputs": [],
   "source": [
    "import torch\n",
    "import torch.nn as nn"
   ]
  },
  {
   "cell_type": "code",
   "execution_count": 1,
   "id": "51c1ac2d",
   "metadata": {},
   "outputs": [],
   "source": [
    "from model import CausalSelfAttention, GPTConfig"
   ]
  },
  {
   "cell_type": "code",
   "execution_count": 5,
   "id": "56fb5ea7",
   "metadata": {},
   "outputs": [],
   "source": [
    "config = GPTConfig"
   ]
  },
  {
   "cell_type": "code",
   "execution_count": 12,
   "id": "826858fd",
   "metadata": {},
   "outputs": [
    {
     "data": {
      "text/plain": [
       "tensor([[[[1., 0., 0., 0., 0., 0., 0., 0.],\n",
       "          [1., 1., 0., 0., 0., 0., 0., 0.],\n",
       "          [1., 1., 1., 0., 0., 0., 0., 0.],\n",
       "          [1., 1., 1., 1., 0., 0., 0., 0.],\n",
       "          [1., 1., 1., 1., 1., 0., 0., 0.],\n",
       "          [1., 1., 1., 1., 1., 1., 0., 0.],\n",
       "          [1., 1., 1., 1., 1., 1., 1., 0.],\n",
       "          [1., 1., 1., 1., 1., 1., 1., 1.]]]])"
      ]
     },
     "execution_count": 12,
     "metadata": {},
     "output_type": "execute_result"
    }
   ],
   "source": [
    "torch.tril(torch.ones(8, 8)).view(1, 1, 8, 8)"
   ]
  },
  {
   "cell_type": "code",
   "execution_count": 13,
   "id": "16255c9b",
   "metadata": {},
   "outputs": [
    {
     "data": {
      "text/plain": [
       "tensor([[[[1., 0., 0.,  ..., 0., 0., 0.],\n",
       "          [1., 1., 0.,  ..., 0., 0., 0.],\n",
       "          [1., 1., 1.,  ..., 0., 0., 0.],\n",
       "          ...,\n",
       "          [1., 1., 1.,  ..., 1., 0., 0.],\n",
       "          [1., 1., 1.,  ..., 1., 1., 0.],\n",
       "          [1., 1., 1.,  ..., 1., 1., 1.]]]])"
      ]
     },
     "execution_count": 13,
     "metadata": {},
     "output_type": "execute_result"
    }
   ],
   "source": [
    "torch.tril(torch.ones(config.block_size, config.block_size)).view(1, 1, config.block_size, config.block_size)"
   ]
  },
  {
   "cell_type": "code",
   "execution_count": 32,
   "id": "5b83c336",
   "metadata": {},
   "outputs": [],
   "source": [
    "x = torch.ones((1, 4, 8))"
   ]
  },
  {
   "cell_type": "code",
   "execution_count": 33,
   "id": "8114a60d",
   "metadata": {},
   "outputs": [],
   "source": [
    "a = nn.Linear(8, 3 * 8, bias=False)"
   ]
  },
  {
   "cell_type": "code",
   "execution_count": 34,
   "id": "fc625e54",
   "metadata": {},
   "outputs": [
    {
     "data": {
      "text/plain": [
       "tensor([[[ 0.3249, -1.0418, -0.0879, -0.2113,  0.8720, -0.0946,  0.8089,\n",
       "          -0.7325, -0.4486,  0.5377,  0.1897, -1.1196, -0.4163, -0.4646,\n",
       "           0.4444,  0.0860,  0.4843,  1.0113, -0.6168,  0.5033,  0.5977,\n",
       "          -0.0941,  0.2302,  0.3485],\n",
       "         [ 0.3249, -1.0418, -0.0879, -0.2113,  0.8720, -0.0946,  0.8089,\n",
       "          -0.7325, -0.4486,  0.5377,  0.1897, -1.1196, -0.4163, -0.4646,\n",
       "           0.4444,  0.0860,  0.4843,  1.0113, -0.6168,  0.5033,  0.5977,\n",
       "          -0.0941,  0.2302,  0.3485],\n",
       "         [ 0.3249, -1.0418, -0.0879, -0.2113,  0.8720, -0.0946,  0.8089,\n",
       "          -0.7325, -0.4486,  0.5377,  0.1897, -1.1196, -0.4163, -0.4646,\n",
       "           0.4444,  0.0860,  0.4843,  1.0113, -0.6168,  0.5033,  0.5977,\n",
       "          -0.0941,  0.2302,  0.3485],\n",
       "         [ 0.3249, -1.0418, -0.0879, -0.2113,  0.8720, -0.0946,  0.8089,\n",
       "          -0.7325, -0.4486,  0.5377,  0.1897, -1.1196, -0.4163, -0.4646,\n",
       "           0.4444,  0.0860,  0.4843,  1.0113, -0.6168,  0.5033,  0.5977,\n",
       "          -0.0941,  0.2302,  0.3485]]], grad_fn=<UnsafeViewBackward0>)"
      ]
     },
     "execution_count": 34,
     "metadata": {},
     "output_type": "execute_result"
    }
   ],
   "source": [
    "a(x)"
   ]
  },
  {
   "cell_type": "code",
   "execution_count": 60,
   "id": "2644b44f",
   "metadata": {},
   "outputs": [],
   "source": [
    "q, k, v = a(x).split(8, dim =2)"
   ]
  },
  {
   "cell_type": "code",
   "execution_count": 61,
   "id": "6f8455df",
   "metadata": {},
   "outputs": [
    {
     "data": {
      "text/plain": [
       "torch.Size([1, 4, 8])"
      ]
     },
     "execution_count": 61,
     "metadata": {},
     "output_type": "execute_result"
    }
   ],
   "source": [
    "q.shape"
   ]
  },
  {
   "cell_type": "code",
   "execution_count": 62,
   "id": "b8aa3616",
   "metadata": {},
   "outputs": [
    {
     "data": {
      "text/plain": [
       "torch.Size([1, 8, 4])"
      ]
     },
     "execution_count": 62,
     "metadata": {},
     "output_type": "execute_result"
    }
   ],
   "source": [
    "q.transpose(1, 2).shape"
   ]
  },
  {
   "cell_type": "code",
   "execution_count": 63,
   "id": "2e4e08b4",
   "metadata": {},
   "outputs": [
    {
     "data": {
      "text/plain": [
       "torch.Size([1, 4, 2, 4])"
      ]
     },
     "execution_count": 63,
     "metadata": {},
     "output_type": "execute_result"
    }
   ],
   "source": [
    "q = q.view(1, 4, 2, 8 // 2)\n",
    "q.shape"
   ]
  },
  {
   "cell_type": "code",
   "execution_count": null,
   "id": "2f3cba2c",
   "metadata": {},
   "outputs": [],
   "source": []
  }
 ],
 "metadata": {
  "kernelspec": {
   "display_name": "Python 3 (ipykernel)",
   "language": "python",
   "name": "python3"
  },
  "language_info": {
   "codemirror_mode": {
    "name": "ipython",
    "version": 3
   },
   "file_extension": ".py",
   "mimetype": "text/x-python",
   "name": "python",
   "nbconvert_exporter": "python",
   "pygments_lexer": "ipython3",
   "version": "3.9.16"
  }
 },
 "nbformat": 4,
 "nbformat_minor": 5
}
