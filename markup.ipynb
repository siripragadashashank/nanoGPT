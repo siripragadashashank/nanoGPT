{
 "cells": [
  {
   "cell_type": "code",
   "execution_count": 14,
   "id": "3d9df07f",
   "metadata": {},
   "outputs": [],
   "source": [
    "import torch\n",
    "import torch.nn as nn"
   ]
  },
  {
   "cell_type": "code",
   "execution_count": 1,
   "id": "51c1ac2d",
   "metadata": {},
   "outputs": [],
   "source": [
    "from model import CausalSelfAttention, GPTConfig"
   ]
  },
  {
   "cell_type": "code",
   "execution_count": 5,
   "id": "6250f205",
   "metadata": {},
   "outputs": [],
   "source": [
    "config = GPTConfig"
   ]
  },
  {
   "cell_type": "code",
   "execution_count": 12,
   "id": "60edf0e5",
   "metadata": {},
   "outputs": [
    {
     "data": {
      "text/plain": [
       "tensor([[[[1., 0., 0., 0., 0., 0., 0., 0.],\n",
       "          [1., 1., 0., 0., 0., 0., 0., 0.],\n",
       "          [1., 1., 1., 0., 0., 0., 0., 0.],\n",
       "          [1., 1., 1., 1., 0., 0., 0., 0.],\n",
       "          [1., 1., 1., 1., 1., 0., 0., 0.],\n",
       "          [1., 1., 1., 1., 1., 1., 0., 0.],\n",
       "          [1., 1., 1., 1., 1., 1., 1., 0.],\n",
       "          [1., 1., 1., 1., 1., 1., 1., 1.]]]])"
      ]
     },
     "execution_count": 12,
     "metadata": {},
     "output_type": "execute_result"
    }
   ],
   "source": [
    "torch.tril(torch.ones(8, 8)).view(1, 1, 8, 8)"
   ]
  },
  {
   "cell_type": "code",
   "execution_count": 13,
   "id": "01664b79",
   "metadata": {},
   "outputs": [
    {
     "data": {
      "text/plain": [
       "tensor([[[[1., 0., 0.,  ..., 0., 0., 0.],\n",
       "          [1., 1., 0.,  ..., 0., 0., 0.],\n",
       "          [1., 1., 1.,  ..., 0., 0., 0.],\n",
       "          ...,\n",
       "          [1., 1., 1.,  ..., 1., 0., 0.],\n",
       "          [1., 1., 1.,  ..., 1., 1., 0.],\n",
       "          [1., 1., 1.,  ..., 1., 1., 1.]]]])"
      ]
     },
     "execution_count": 13,
     "metadata": {},
     "output_type": "execute_result"
    }
   ],
   "source": [
    "torch.tril(torch.ones(config.block_size, config.block_size)).view(1, 1, config.block_size, config.block_size)"
   ]
  },
  {
   "cell_type": "code",
   "execution_count": 85,
   "id": "8f0dab27",
   "metadata": {},
   "outputs": [],
   "source": [
    "x = torch.ones((1, 4, 8))"
   ]
  },
  {
   "cell_type": "code",
   "execution_count": 86,
   "id": "b4b5000f",
   "metadata": {},
   "outputs": [],
   "source": [
    "a = nn.Linear(8, 3 * 8, bias=False)"
   ]
  },
  {
   "cell_type": "code",
   "execution_count": 87,
   "id": "0c38d4ae",
   "metadata": {},
   "outputs": [
    {
     "data": {
      "text/plain": [
       "tensor([[[ 0.3027,  0.6949,  0.4734, -0.3146,  0.0827, -0.0691, -0.2610,\n",
       "          -1.3717,  0.8484, -0.1178, -0.1454,  0.5303,  0.2185, -0.0925,\n",
       "           0.2764, -0.1233,  0.1634,  0.9582,  0.0158, -0.5594, -1.2482,\n",
       "           1.1213,  0.3296, -0.4701],\n",
       "         [ 0.3027,  0.6949,  0.4734, -0.3146,  0.0827, -0.0691, -0.2610,\n",
       "          -1.3717,  0.8484, -0.1178, -0.1454,  0.5303,  0.2185, -0.0925,\n",
       "           0.2764, -0.1233,  0.1634,  0.9582,  0.0158, -0.5594, -1.2482,\n",
       "           1.1213,  0.3296, -0.4701],\n",
       "         [ 0.3027,  0.6949,  0.4734, -0.3146,  0.0827, -0.0691, -0.2610,\n",
       "          -1.3717,  0.8484, -0.1178, -0.1454,  0.5303,  0.2185, -0.0925,\n",
       "           0.2764, -0.1233,  0.1634,  0.9582,  0.0158, -0.5594, -1.2482,\n",
       "           1.1213,  0.3296, -0.4701],\n",
       "         [ 0.3027,  0.6949,  0.4734, -0.3146,  0.0827, -0.0691, -0.2610,\n",
       "          -1.3717,  0.8484, -0.1178, -0.1454,  0.5303,  0.2185, -0.0925,\n",
       "           0.2764, -0.1233,  0.1634,  0.9582,  0.0158, -0.5594, -1.2482,\n",
       "           1.1213,  0.3296, -0.4701]]], grad_fn=<UnsafeViewBackward0>)"
      ]
     },
     "execution_count": 87,
     "metadata": {},
     "output_type": "execute_result"
    }
   ],
   "source": [
    "a(x)"
   ]
  },
  {
   "cell_type": "code",
   "execution_count": 88,
   "id": "a0b26ef2",
   "metadata": {},
   "outputs": [
    {
     "data": {
      "text/plain": [
       "torch.Size([1, 4, 8])"
      ]
     },
     "execution_count": 88,
     "metadata": {},
     "output_type": "execute_result"
    }
   ],
   "source": [
    "q, k, v = a(x).split(8, dim =2)\n",
    "q.shape"
   ]
  },
  {
   "cell_type": "code",
   "execution_count": 89,
   "id": "27ce607d",
   "metadata": {},
   "outputs": [
    {
     "data": {
      "text/plain": [
       "torch.Size([1, 4, 2, 4])"
      ]
     },
     "execution_count": 89,
     "metadata": {},
     "output_type": "execute_result"
    }
   ],
   "source": [
    "q = q.view(1, 4, 2, 8 // 2)\n",
    "q.shape"
   ]
  },
  {
   "cell_type": "code",
   "execution_count": 90,
   "id": "705571f5",
   "metadata": {},
   "outputs": [
    {
     "data": {
      "text/plain": [
       "torch.Size([1, 2, 4, 4])"
      ]
     },
     "execution_count": 90,
     "metadata": {},
     "output_type": "execute_result"
    }
   ],
   "source": [
    "q = q.transpose(1, 2)\n",
    "q.shape"
   ]
  },
  {
   "cell_type": "code",
   "execution_count": 91,
   "id": "a9fc872e",
   "metadata": {},
   "outputs": [
    {
     "data": {
      "text/plain": [
       "torch.Size([1, 2, 4, 4])"
      ]
     },
     "execution_count": 91,
     "metadata": {},
     "output_type": "execute_result"
    }
   ],
   "source": [
    "import math\n",
    "att = (q @ q.transpose(-2, -1)) * (1.0 / math.sqrt(q.shape[-1]))\n",
    "att.shape"
   ]
  },
  {
   "cell_type": "code",
   "execution_count": null,
   "id": "852a9a16",
   "metadata": {},
   "outputs": [],
   "source": []
  }
 ],
 "metadata": {
  "kernelspec": {
   "display_name": "Python 3 (ipykernel)",
   "language": "python",
   "name": "python3"
  },
  "language_info": {
   "codemirror_mode": {
    "name": "ipython",
    "version": 3
   },
   "file_extension": ".py",
   "mimetype": "text/x-python",
   "name": "python",
   "nbconvert_exporter": "python",
   "pygments_lexer": "ipython3",
   "version": "3.9.16"
  }
 },
 "nbformat": 4,
 "nbformat_minor": 5
}
